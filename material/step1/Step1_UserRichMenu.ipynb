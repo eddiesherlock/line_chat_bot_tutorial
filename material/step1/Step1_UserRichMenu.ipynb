{
 "cells": [
  {
   "cell_type": "code",
   "execution_count": 1,
   "metadata": {},
   "outputs": [
    {
     "name": "stdout",
     "output_type": "stream",
     "text": [
      "Requirement already satisfied: line-bot-sdk in c:\\users\\big data\\anaconda3\\lib\\site-packages (1.16.0)\n",
      "Requirement already satisfied: future in c:\\users\\big data\\anaconda3\\lib\\site-packages (from line-bot-sdk) (0.18.2)\n",
      "Requirement already satisfied: requests>=2.0 in c:\\users\\big data\\anaconda3\\lib\\site-packages (from line-bot-sdk) (2.22.0)\n",
      "Requirement already satisfied: idna<2.9,>=2.5 in c:\\users\\big data\\anaconda3\\lib\\site-packages (from requests>=2.0->line-bot-sdk) (2.8)\n",
      "Requirement already satisfied: chardet<3.1.0,>=3.0.2 in c:\\users\\big data\\anaconda3\\lib\\site-packages (from requests>=2.0->line-bot-sdk) (3.0.4)\n",
      "Requirement already satisfied: certifi>=2017.4.17 in c:\\users\\big data\\anaconda3\\lib\\site-packages (from requests>=2.0->line-bot-sdk) (2019.11.28)\n",
      "Requirement already satisfied: urllib3!=1.25.0,!=1.25.1,<1.26,>=1.21.1 in c:\\users\\big data\\anaconda3\\lib\\site-packages (from requests>=2.0->line-bot-sdk) (1.25.8)\n"
     ]
    },
    {
     "data": {
      "text/plain": [
       "'\\n\\n用戶菜單功能介紹\\n\\n    用戶能透過點擊菜單，進行我方希冀之業務功能。\\n    \\n流程\\n    準備菜單的圖面設定檔\\n    讀取安全設定檔上的參數\\n    將菜單設定檔傳給Line\\n    對Line上傳菜單照片\\n    檢視現有的菜單\\n    將菜單與用戶做綁定\\n    將菜單與用戶解除綁定\\n    刪除菜單\\n\\n'"
      ]
     },
     "execution_count": 1,
     "metadata": {},
     "output_type": "execute_result"
    }
   ],
   "source": [
    "##!pip install line-bot-sdk\n",
    "'''\n",
    "\n",
    "用戶菜單功能介紹\n",
    "\n",
    "    用戶能透過點擊菜單，進行我方希冀之業務功能。\n",
    "    \n",
    "流程\n",
    "    準備菜單的圖面設定檔\n",
    "    讀取安全設定檔上的參數\n",
    "    將菜單設定檔傳給Line\n",
    "    對Line上傳菜單照片\n",
    "    檢視現有的菜單\n",
    "    將菜單與用戶做綁定\n",
    "    將菜單與用戶解除綁定\n",
    "    刪除菜單\n",
    "\n",
    "'''"
   ]
  },
  {
   "cell_type": "code",
   "execution_count": 22,
   "metadata": {},
   "outputs": [],
   "source": [
    "'''\n",
    "菜單設定檔\n",
    "\n",
    "    設定圖面大小、按鍵名與功能\n",
    "    \n",
    "'''\n",
    "\n",
    "menuRawData=\"\"\"\n",
    "{\n",
    "  \"size\": {\n",
    "    \"width\": 2500,\n",
    "    \"height\": 1686\n",
    "  },\n",
    "  \"selected\": true,\n",
    "  \"name\": \"區塊鏈自定義菜單\",\n",
    "  \"chatBarText\": \"查看更多資訊\",\n",
    "  \"areas\": [\n",
    "    {\n",
    "      \"bounds\": {\n",
    "        \"x\": 5,\n",
    "        \"y\": 0,\n",
    "        \"width\": 824,\n",
    "        \"height\": 850\n",
    "      },\n",
    "      \"action\": {\n",
    "        \"type\": \"message\",\n",
    "        \"text\": \"[::text:]傳統交易\"\n",
    "      }\n",
    "    },\n",
    "    {\n",
    "      \"bounds\": {\n",
    "        \"x\": 0,\n",
    "        \"y\": 850,\n",
    "        \"width\": 825,\n",
    "        \"height\": 818\n",
    "      },\n",
    "      \"action\": {\n",
    "        \"type\": \"message\",\n",
    "        \"text\": \"[::text:]第三方公證人\"\n",
    "      }\n",
    "    },\n",
    "    {\n",
    "      \"bounds\": {\n",
    "        \"x\": 829,\n",
    "        \"y\": 5,\n",
    "        \"width\": 871,\n",
    "        \"height\": 849\n",
    "      },\n",
    "      \"action\": {\n",
    "        \"type\": \"message\",\n",
    "        \"text\": \"[::text:]多位公證人\"\n",
    "      }\n",
    "    },\n",
    "    {\n",
    "      \"bounds\": {\n",
    "        \"x\": 825,\n",
    "        \"y\": 854,\n",
    "        \"width\": 875,\n",
    "        \"height\": 814\n",
    "      },\n",
    "      \"action\": {\n",
    "        \"type\": \"message\",\n",
    "        \"text\": \"[::text:]多組織多位公證人\"\n",
    "      }\n",
    "    },\n",
    "    {\n",
    "      \"bounds\": {\n",
    "        \"x\": 1700,\n",
    "        \"y\": 0,\n",
    "        \"width\": 800,\n",
    "        \"height\": 858\n",
    "      },\n",
    "      \"action\": {\n",
    "        \"type\": \"message\",\n",
    "        \"text\": \"[::text:]教學訊息\"\n",
    "      }\n",
    "    },\n",
    "    {\n",
    "      \"bounds\": {\n",
    "        \"x\": 1700,\n",
    "        \"y\": 858,\n",
    "        \"width\": 800,\n",
    "        \"height\": 810\n",
    "      },\n",
    "      \"action\": {\n",
    "        \"type\": \"message\",\n",
    "        \"text\": \"[::text:]more\"\n",
    "      }\n",
    "    }\n",
    "  ]\n",
    "}\n",
    "\"\"\""
   ]
  },
  {
   "cell_type": "code",
   "execution_count": 23,
   "metadata": {},
   "outputs": [
    {
     "name": "stdout",
     "output_type": "stream",
     "text": [
      "Yaakybahbxq2xMuicAtCqKxtnLZVGlbqGZXVm5aGSbLRTS9ZwjVLnvQCv4+PEBSFtMSb8I+/jU7i1tagaRXmqAOx/EK+TuD33lEzcgGhTTgE/h6vhCkxw4Zde2GLCayZAMv6tG3FwJrirat+/ItenwdB04t89/1O/w1cDnyilFU=\n",
      "f8d538aeeff253a8673ae2e4ef4456c8\n",
      "U21cadb743c81da63ead6fedf92d9c126\n"
     ]
    }
   ],
   "source": [
    "'''\n",
    "\n",
    "讀取安全檔案內的字串，以供後續程式碼調用\n",
    "\n",
    "'''\n",
    "import json\n",
    "secretFileContentJson=json.load(open(\"../line_secret_key\",'r',encoding=\"utf-8\"))\n",
    "\n",
    "print(secretFileContentJson.get(\"channel_access_token\"))\n",
    "print(secretFileContentJson.get(\"secret_key\"))\n",
    "print(secretFileContentJson.get(\"self_user_id\"))\n"
   ]
  },
  {
   "cell_type": "code",
   "execution_count": 26,
   "metadata": {},
   "outputs": [],
   "source": [
    "'''\n",
    "\n",
    "用channel_access_token創建line_bot_api，預備用來跟Line進行溝通\n",
    "\n",
    "'''\n",
    "\n",
    "from linebot import (\n",
    "    LineBotApi, WebhookHandler\n",
    ")\n",
    "\n",
    "line_bot_api = LineBotApi(secretFileContentJson.get(\"channel_access_token\"))\n"
   ]
  },
  {
   "cell_type": "code",
   "execution_count": 30,
   "metadata": {},
   "outputs": [
    {
     "name": "stdout",
     "output_type": "stream",
     "text": [
      "richmenu-e567762ddecdfe2c8a65db8313294431\n"
     ]
    }
   ],
   "source": [
    "'''\n",
    "\n",
    "載入前面的圖文選單設定，\n",
    "\n",
    "並要求line_bot_api將圖文選單上傳至Line\n",
    "    \n",
    "\n",
    "'''\n",
    "\n",
    "from linebot.models import RichMenu\n",
    "import requests\n",
    "\n",
    "menuJson=json.loads(menuRawData)\n",
    "\n",
    "lineRichMenuId = line_bot_api.create_rich_menu(rich_menu=RichMenu.new_from_json_dict(menuJson))\n",
    "print(lineRichMenuId)\n",
    "\n"
   ]
  },
  {
   "cell_type": "code",
   "execution_count": 31,
   "metadata": {},
   "outputs": [
    {
     "name": "stdout",
     "output_type": "stream",
     "text": [
      "None\n"
     ]
    }
   ],
   "source": [
    "'''\n",
    "\n",
    "將先前準備的菜單照片，以Post消息寄發給Line\n",
    "\n",
    "    載入照片\n",
    "    要求line_bot_api，將圖片傳到先前的圖文選單id\n",
    "\n",
    "\n",
    "'''\n",
    "\n",
    "\n",
    "uploadImageFile=open(\"../images/blockchain_demo.jpg\",'rb')\n",
    "\n",
    "setImageResponse = line_bot_api.set_rich_menu_image(lineRichMenuId,'image/jpeg',uploadImageFile)\n",
    "\n",
    "print(setImageResponse)\n"
   ]
  },
  {
   "cell_type": "code",
   "execution_count": 32,
   "metadata": {},
   "outputs": [
    {
     "name": "stdout",
     "output_type": "stream",
     "text": [
      "None\n"
     ]
    }
   ],
   "source": [
    "'''\n",
    "\n",
    "將選單綁定到特定用戶身上\n",
    "    取出上面得到的菜單Id及用戶id\n",
    "    要求line_bot_api告知Line，將用戶與圖文選單做綁定\n",
    "\n",
    "'''\n",
    "\n",
    "# https://api.line.me/v2/bot/user/{userId}/richmenu/{richMenuId}\n",
    "\n",
    "\n",
    "linkResult=line_bot_api.link_rich_menu_to_user(secretFileContentJson[\"self_user_id\"], lineRichMenuId)\n",
    "\n",
    "print(linkResult)\n"
   ]
  },
  {
   "cell_type": "code",
   "execution_count": 33,
   "metadata": {},
   "outputs": [
    {
     "name": "stdout",
     "output_type": "stream",
     "text": [
      "richmenu-e567762ddecdfe2c8a65db8313294431\n"
     ]
    }
   ],
   "source": [
    "'''\n",
    "\n",
    "檢視用戶目前所綁定的菜單\n",
    "    取出用戶id，並告知line_bot_api，\n",
    "    line_bot_api傳回用戶所綁定的菜單\n",
    "    印出\n",
    "\n",
    "'''\n",
    "\n",
    "#  https://api.line.me/v2/bot/user/{userId}/richmenu\n",
    "\n",
    "\n",
    "rich_menu_id = line_bot_api.get_rich_menu_id_of_user(secretFileContentJson[\"self_user_id\"])\n",
    "print(rich_menu_id)\n",
    "\n"
   ]
  },
  {
   "cell_type": "code",
   "execution_count": 34,
   "metadata": {},
   "outputs": [
    {
     "name": "stdout",
     "output_type": "stream",
     "text": [
      "None\n"
     ]
    }
   ],
   "source": [
    "'''\n",
    "\n",
    "解除選單與特定用戶的綁定\n",
    "    取出用戶id，並告知line_bot_api，\n",
    "    line_bot_api解除用戶所綁定的菜單\n",
    "'''\n",
    "\n",
    "lineUnregisterUserMenuResponse=line_bot_api.unlink_rich_menu_from_user(secretFileContentJson[\"self_user_id\"])\n",
    "print(lineUnregisterUserMenuResponse)\n"
   ]
  },
  {
   "cell_type": "code",
   "execution_count": 35,
   "metadata": {},
   "outputs": [
    {
     "name": "stdout",
     "output_type": "stream",
     "text": [
      "richmenu-c604d674cb18ec86543ad6d19bcd4af3\n",
      "richmenu-464f99d08352d8542915494b136f1d9d\n",
      "richmenu-e567762ddecdfe2c8a65db8313294431\n",
      "richmenu-2e38e92204cfdf0335d1b2ca89d516fb\n",
      "richmenu-1fb35dc7c1af8f064dcb588ee0ce5ed6\n",
      "richmenu-16966fb9883f6b99eb96c756a32a3e7d\n"
     ]
    }
   ],
   "source": [
    "'''\n",
    "\n",
    "檢視帳號內，有哪些選單\n",
    "    要求line_bot_api，向line查詢我方的圖文選單列表\n",
    "    打印\n",
    "\n",
    "'''\n",
    "\n",
    "rich_menu_list = line_bot_api.get_rich_menu_list()\n",
    "for rich_menu in rich_menu_list:\n",
    "    print(rich_menu.rich_menu_id)"
   ]
  },
  {
   "cell_type": "code",
   "execution_count": null,
   "metadata": {},
   "outputs": [],
   "source": []
  }
 ],
 "metadata": {
  "kernelspec": {
   "display_name": "Python 3",
   "language": "python",
   "name": "python3"
  },
  "language_info": {
   "codemirror_mode": {
    "name": "ipython",
    "version": 3
   },
   "file_extension": ".py",
   "mimetype": "text/x-python",
   "name": "python",
   "nbconvert_exporter": "python",
   "pygments_lexer": "ipython3",
   "version": "3.7.6"
  }
 },
 "nbformat": 4,
 "nbformat_minor": 2
}
